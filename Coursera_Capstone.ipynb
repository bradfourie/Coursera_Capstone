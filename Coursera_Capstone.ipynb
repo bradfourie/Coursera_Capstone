{
  "nbformat": 4,
  "nbformat_minor": 0,
  "metadata": {
    "colab": {
      "name": "Coursera_Capstone.ipynb",
      "provenance": []
    },
    "kernelspec": {
      "name": "python3",
      "display_name": "Python 3"
    }
  },
  "cells": [
    {
      "cell_type": "markdown",
      "metadata": {
        "id": "s18e0k0Bw16J"
      },
      "source": [
        "# Applied Data Science Final Project\r\n",
        "##### This notebook contains the code for the code that will be submitted to obtain the IBM Data Science Professional Certificate"
      ]
    },
    {
      "cell_type": "code",
      "metadata": {
        "id": "iPyGJvBpw0Lg"
      },
      "source": [
        "import pandas as pd\r\n",
        "import numpy as np"
      ],
      "execution_count": 2,
      "outputs": []
    },
    {
      "cell_type": "code",
      "metadata": {
        "colab": {
          "base_uri": "https://localhost:8080/"
        },
        "id": "HzUj7XwaxKaf",
        "outputId": "151013eb-62d1-4d74-b5d8-1e8b70576da6"
      },
      "source": [
        "print(\"Hello Capstone Project Course!\")"
      ],
      "execution_count": 3,
      "outputs": [
        {
          "output_type": "stream",
          "text": [
            "Hello Capstone Project Course!\n"
          ],
          "name": "stdout"
        }
      ]
    },
    {
      "cell_type": "code",
      "metadata": {
        "id": "_KuOKM5YxNGI"
      },
      "source": [
        ""
      ],
      "execution_count": null,
      "outputs": []
    }
  ]
}